{
 "cells": [
  {
   "cell_type": "markdown",
   "metadata": {},
   "source": [
    "#  Hybrid Classical-Quantum Transfer Learning for Cardiomegaly Detection in Chest X-Rays "
   ]
  },
  {
   "cell_type": "markdown",
   "metadata": {},
   "source": [
    "## load data"
   ]
  },
  {
   "cell_type": "code",
   "execution_count": 1,
   "metadata": {
    "vscode": {
     "languageId": "python"
    }
   },
   "outputs": [
    {
     "name": "stdout",
     "output_type": "stream",
     "text": [
      "Last updated: 2023-04-07T22:41:03.731218+08:00\n",
      "\n",
      "Python implementation: CPython\n",
      "Python version       : 3.9.16\n",
      "IPython version      : 8.8.0\n",
      "\n",
      "Compiler    : MSC v.1916 64 bit (AMD64)\n",
      "OS          : Windows\n",
      "Release     : 10\n",
      "Machine     : AMD64\n",
      "Processor   : Intel64 Family 6 Model 183 Stepping 1, GenuineIntel\n",
      "CPU cores   : 24\n",
      "Architecture: 64bit\n",
      "\n",
      "matplotlib : 3.6.3\n",
      "seaborn    : 0.12.2\n",
      "pandas     : 1.5.3\n",
      "torch      : 1.13.1\n",
      "numpy      : 1.23.5\n",
      "torchvision: 0.14.1\n",
      "\n"
     ]
    }
   ],
   "source": [
    "import numpy as np\n",
    "import pandas as pd\n",
    "import seaborn as sns\n",
    "import matplotlib.pyplot as plt\n",
    "\n",
    "import random\n",
    "import os\n",
    "import copy\n",
    "        \n",
    "import torch\n",
    "import torch.nn as nn\n",
    "from torch.utils.data import ConcatDataset, Dataset\n",
    "import torchvision\n",
    "from torchvision import datasets, transforms\n",
    "from torch.utils.data import TensorDataset\n",
    "from nngeometry.layercollection import LayerCollection\n",
    "from nngeometry.metrics import FIM\n",
    "from nngeometry.object import PMatKFAC, PMatDense\n",
    "\n",
    "%matplotlib inline\n",
    "def seed_everything(seed=42):\n",
    "    random.seed(seed)\n",
    "    os.environ['PYTHONHASHSEED'] = str(seed)\n",
    "    np.random.seed(seed)\n",
    "    torch.manual_seed(seed)\n",
    "    torch.backends.cudnn.deterministic = True\n",
    "    torch.backends.cudnn.benchmark = False\n",
    "\n",
    "seed_everything(123)\n",
    "\n",
    "from watermark import watermark\n",
    "%reload_ext watermark\n",
    "%watermark \n",
    "%watermark --iversions"
   ]
  },
  {
   "cell_type": "code",
   "execution_count": 2,
   "metadata": {
    "vscode": {
     "languageId": "python"
    }
   },
   "outputs": [],
   "source": [
    "import time\n",
    "n_qubits = 10                     # Number of qubits.\n",
    "q_depth = 6                      # Depth of the quantum circuit (number of variational layers).\n",
    "max_layers = 15                  # Keep 15 even if not all are used.\n",
    "q_delta = 0.01                   # Initial spread of random quantum weights.\n",
    "\n",
    "step = 10e-4                     # Learning rate.\n",
    "weight_decay = 10e-4             # Weight_decay for learning rate.\n",
    "batch_size = 8                   # Number of samples for each training step.\n",
    "init_epochs = 2                  # Number of init epochs.\n",
    "train_epochs = 18                # Number of training epochs.\n",
    "step_size= 2                     # Learning rate changing epochs.\n",
    "gamma_lr_scheduler = 0.3         # Learning rate reduction applied every step_size epochs.  \n",
    "\n",
    "start_time = time.time()         # Start of the computation timer"
   ]
  },
  {
   "cell_type": "code",
   "execution_count": 3,
   "metadata": {
    "vscode": {
     "languageId": "python"
    }
   },
   "outputs": [
    {
     "name": "stdout",
     "output_type": "stream",
     "text": [
      "Time elapsed:  0.014400482177734375\n"
     ]
    }
   ],
   "source": [
    "from tqdm import tqdm \n",
    "import time\n",
    "start = time.time()\n",
    "img_size = 256\n",
    "\n",
    "data_transforms = {\n",
    "    'train': transforms.Compose([\n",
    "        transforms.Resize((img_size, img_size)), \n",
    "        transforms.CenterCrop((224,224)),\n",
    "        transforms.RandomRotation(30),\n",
    "        transforms.RandomHorizontalFlip(p=0.5),\n",
    "        transforms.RandomAutocontrast(p=1.0),\n",
    "        transforms.ToTensor(),\n",
    "        transforms.Normalize([0.485, 0.456, 0.406], [0.229, 0.224, 0.225]),\n",
    "    ]),\n",
    "    'val': transforms.Compose([\n",
    "        transforms.Resize(256),\n",
    "        transforms.CenterCrop(224),\n",
    "        transforms.ToTensor(),\n",
    "        #transforms.Normalize([0.485, 0.456, 0.406], [0.229, 0.224, 0.225]),\n",
    "    ]),\n",
    "}\n",
    "\n",
    "\n",
    "data_dir = 'chexpert-corrected/'\n",
    "image_datasets = {x: datasets.ImageFolder(os.path.join(data_dir, x),\n",
    "                     data_transforms[x]) for x in ['train', 'val']}\n",
    "dataset_sizes = {x: len(image_datasets[x]) for x in ['train', 'val']}\n",
    "class_names = image_datasets['train'].classes\n",
    "\n",
    "# Initialize dataloader\n",
    "dataloaders = {x: torch.utils.data.DataLoader(image_datasets[x], \n",
    "                  batch_size=batch_size, shuffle=True) for x in ['train', 'val']}\n",
    "\n",
    "# function to plot images\n",
    "def imshow(inp, title=None):\n",
    "    \"\"\"Display image from tensor.\"\"\"\n",
    "    inp = inp.numpy().transpose((1, 2, 0))\n",
    "    # We apply the inverse of the initial normalization operation.\n",
    "    if transforms.Normalize in data_transforms['val'].transforms:\n",
    "        norm = tranform_start[trans_list.index(transforms.Normalize)]\n",
    "        mean = np.array(norm.mean)#np.array([0.485, 0.456, 0.406])\n",
    "        std = np.array(norm.std)#np.array([0.229, 0.224, 0.225])\n",
    "        img = std * input_tensor + mean  \n",
    "    inp = np.clip(inp, 0, 1)\n",
    "    plt.imshow(inp)\n",
    "    if title is not None:\n",
    "        plt.title(title)\n",
    "\n",
    "own_elapsed = time.time() - start\n",
    "print(\"Time elapsed: \", own_elapsed)"
   ]
  },
  {
   "cell_type": "code",
   "execution_count": 4,
   "metadata": {
    "vscode": {
     "languageId": "python"
    }
   },
   "outputs": [
    {
     "data": {
      "image/png": "[encoded data removed]",
      "text/plain": [
       "<Figure size 640x480 with 1 Axes>"
      ]
     },
     "metadata": {},
     "output_type": "display_data"
    }
   ],
   "source": [
    "# Get a batch of training data\n",
    "inputs, classes = next(iter(dataloaders['val']))\n",
    "\n",
    "# Make a grid from batch\n",
    "out = torchvision.utils.make_grid(inputs)\n",
    "\n",
    "imshow(out, title=[class_names[x] for x in classes])"
   ]
  },
  {
   "cell_type": "code",
   "execution_count": 5,
   "metadata": {
    "vscode": {
     "languageId": "python"
    }
   },
   "outputs": [
    {
     "name": "stdout",
     "output_type": "stream",
     "text": [
      "Scans found: 2436\n"
     ]
    }
   ],
   "source": [
    "#resize image\n",
    "import cv2\n",
    "import PIL\n",
    "from glob import glob\n",
    "\n",
    "def read_img(img_path,tranform_):\n",
    "    img = cv2.imread(img_path)\n",
    "    transform = transforms.Compose(tranform_)\n",
    "    img = transform(PIL.Image.fromarray(img))\n",
    "    return img\n",
    "\n",
    "print('Scans found:', len(image_datasets['train'].imgs)+ len(image_datasets['val'].imgs))"
   ]
  },
  {
   "cell_type": "markdown",
   "metadata": {},
   "source": [
    "### GradCam"
   ]
  },
  {
   "cell_type": "code",
   "execution_count": 6,
   "metadata": {
    "vscode": {
     "languageId": "python"
    }
   },
   "outputs": [],
   "source": [
    "from pytorch_grad_cam import GradCAM, HiResCAM, ScoreCAM, GradCAMPlusPlus, AblationCAM, XGradCAM, EigenCAM, FullGrad\n",
    "from pytorch_grad_cam.utils.model_targets import ClassifierOutputTarget\n",
    "from pytorch_grad_cam.utils.image import show_cam_on_image\n",
    "from torchvision.models import resnet50,resnext50_32x4d,resnet18,densenet161,wide_resnet50_2, densenet121, densenet161\n",
    "from PIL import Image"
   ]
  },
  {
   "cell_type": "markdown",
   "metadata": {},
   "source": [
    "### pre-process dataset"
   ]
  },
  {
   "cell_type": "code",
   "execution_count": 7,
   "metadata": {
    "vscode": {
     "languageId": "python"
    }
   },
   "outputs": [
    {
     "name": "stdout",
     "output_type": "stream",
     "text": [
      "cuda:0\n"
     ]
    }
   ],
   "source": [
    "device = torch.device(\"cuda:0\" if torch.cuda.is_available() else \"cpu\")\n",
    "print(device)\n",
    "#device = 'cpu' #qiskit don't support gpu on windows"
   ]
  },
  {
   "cell_type": "code",
   "execution_count": 8,
   "metadata": {
    "vscode": {
     "languageId": "python"
    }
   },
   "outputs": [
    {
     "name": "stderr",
     "output_type": "stream",
     "text": [
      "100%|█████████████████████████████████████████████████████████████████████████████| 1706/1706 [00:02<00:00, 608.80it/s]\n",
      "100%|███████████████████████████████████████████████████████████████████████████████| 730/730 [00:01<00:00, 631.80it/s]\n"
     ]
    }
   ],
   "source": [
    "from tqdm import tqdm \n",
    "train_img = []\n",
    "train_ids = []\n",
    "train_y = []\n",
    "\n",
    "img_size=256\n",
    "tranform_ = [transforms.Resize((img_size, img_size)), \n",
    "             transforms.CenterCrop((224,224)),\n",
    "             #transforms.RandomRotation(30),\n",
    "             #transforms.RandomHorizontalFlip(p=0.5),\n",
    "             #transforms.RandomAutocontrast(p=0.5),\n",
    "             #transforms.ToTensor(),\n",
    "             #transforms.Normalize([0.485, 0.456, 0.406], [0.229, 0.224, 0.225]),\n",
    "            ]\n",
    "\n",
    "train_img = []\n",
    "train_ids = []\n",
    "train_y = []\n",
    "\n",
    "for img_path in tqdm(image_datasets[\"train\"].imgs):\n",
    "    train_img.append(read_img(img_path[0],tranform_))\n",
    "    train_ids.append(img_path[0].split(\"\\\\\")[2])\n",
    "    train_y.append(img_path[1])\n",
    "    \n",
    "#valid_img = []\n",
    "#valid_ids = []\n",
    "#valid_y = []\n",
    "#\n",
    "#for img_path in tqdm(image_datasets[\"val\"].imgs):\n",
    "#    valid_img.append(read_img(img_path[0],tranform_))\n",
    "#    valid_ids.append(img_path[0].split(\"\\\\\")[2])\n",
    "#    valid_y.append(img_path[1])\n",
    "    \n",
    "test_img = []\n",
    "test_ids = []\n",
    "test_y = []\n",
    "for img_path in tqdm(image_datasets[\"val\"].imgs):\n",
    "    test_img.append(read_img(img_path[0],tranform_))\n",
    "    test_ids.append(img_path[0].split(\"\\\\\")[2])\n",
    "    test_y.append(img_path[1])"
   ]
  },
  {
   "cell_type": "code",
   "execution_count": 9,
   "metadata": {
    "vscode": {
     "languageId": "python"
    }
   },
   "outputs": [
    {
     "name": "stderr",
     "output_type": "stream",
     "text": [
      "100%|████████████████████████████████████████████████████████████████████████████| 1706/1706 [00:01<00:00, 1181.31it/s]\n",
      "100%|██████████████████████████████████████████████████████████████████████████████| 730/730 [00:00<00:00, 1335.37it/s]\n"
     ]
    },
    {
     "name": "stdout",
     "output_type": "stream",
     "text": [
      "Time elapsed:  3.937396287918091\n"
     ]
    }
   ],
   "source": [
    "#qamp_IMAGE_DIR = \"qamp\"\n",
    "\n",
    "import time\n",
    "start = time.time()\n",
    "\n",
    "# * better way\n",
    "\n",
    "tranform_ = [#transforms.Resize((img_size, img_size)), \n",
    "             #transforms.CenterCrop((224,224)),\n",
    "             #transforms.RandomRotation(30),\n",
    "             transforms.RandomHorizontalFlip(p=0.5),\n",
    "            #transforms.RandomVerticalFlip(p=0.5),\n",
    "             transforms.RandomAutocontrast(p=0.5),\n",
    "             transforms.ToTensor(),\n",
    "             transforms.Normalize([0.485, 0.456, 0.406], [0.229, 0.224, 0.225]),\n",
    "            ]\n",
    "transform = transforms.Compose(tranform_)\n",
    "\n",
    "train_imgg = []\n",
    "for img in tqdm(train_img):\n",
    "    img = transform(img)\n",
    "    train_imgg.append(img)\n",
    "##train_ds=torch.tensor(np.array(train_img), device=device).float()\n",
    "train_y = torch.tensor(train_y, device=device).float()\n",
    "train_ds = TensorDataset(torch.stack(train_imgg).to(device), train_y)\n",
    "train_dataloader = torch.utils.data.DataLoader(train_ds, batch_size=8, shuffle=True)\n",
    "train_size = len(train_dataloader)\n",
    "\n",
    "tranform_ = [#transforms.Resize((img_size, img_size)), \n",
    "             #transforms.CenterCrop((224,224)),\n",
    "             #transforms.RandomRotation(30),\n",
    "             #transforms.RandomHorizontalFlip(p=0.5),\n",
    "             transforms.RandomAutocontrast(p=0.5),\n",
    "             transforms.ToTensor(),\n",
    "             transforms.Normalize([0.485, 0.456, 0.406], [0.229, 0.224, 0.225]),\n",
    "            ]\n",
    "transform = transforms.Compose(tranform_)\n",
    "\n",
    "#valid_imgg=[]\n",
    "#for img in tqdm(valid_img):\n",
    "#    img = transform(img)\n",
    "#    valid_imgg.append(img)\n",
    "###valid_ds=torch.tensor(np.array(valid_img), device=device).float()\n",
    "#valid_y = torch.tensor(valid_df['Cardiomegaly'].values, device=device).float()\n",
    "#valid_ds = TensorDataset(torch.stack(valid_imgg).to(device), valid_y)\n",
    "#valid_dataloader = torch.utils.data.DataLoader(valid_ds, batch_size=2, shuffle=True)\n",
    "#valid_size = len(valid_dataloader)\n",
    "\n",
    "test_img_ = []\n",
    "for img in tqdm(test_img):\n",
    "    img = transform(img)\n",
    "    test_img_.append(img)\n",
    "#test_ds=torch.tensor(np.array(test_img_), device=device).float()\n",
    "test_y = torch.tensor(test_y, device=device).float()\n",
    "test_ds = TensorDataset(torch.stack(test_img_).to(device), test_y)\n",
    "test_dataloader = torch.utils.data.DataLoader(test_ds, batch_size=1, shuffle=False)#, sampler= sampler)\n",
    "\n",
    "\n",
    "own_elapsed = time.time() - start\n",
    "print(\"Time elapsed: \", own_elapsed)"
   ]
  },
  {
   "cell_type": "markdown",
   "metadata": {},
   "source": [
    "## Neural Network"
   ]
  },
  {
   "cell_type": "code",
   "execution_count": 10,
   "metadata": {
    "vscode": {
     "languageId": "python"
    }
   },
   "outputs": [],
   "source": [
    "# install instruction - https://www.delftstack.com/howto/python/python-graphviz-executables-are-not-found/\n",
    "#from torchviz import make_dot\n",
    "#\n",
    "#model = resnet18()\n",
    "#batch = next(iter(train_dataloader))[0]\n",
    "##x = torch.zeros(1, 3, 224, 224, dtype=torch.float, requires_grad=False)#8, 3, 224, 224\n",
    "#yhat = model(batch) # Give dummy batch to forward().\n",
    "#make_dot(yhat, params=dict(list(model.named_parameters()))).render(\"rnn_torchviz\", format=\"png\")"
   ]
  },
  {
   "cell_type": "code",
   "execution_count": 11,
   "metadata": {
    "vscode": {
     "languageId": "python"
    }
   },
   "outputs": [],
   "source": [
    "from math import pi\n",
    "from scipy.special import logsumexp\n",
    "import numpy as np\n",
    "\n",
    "\n",
    "# This class is used to calculate the effective dimension of a model (classical or quantum)\n",
    "# It implicitly computed the normalised Fisher information (which is called fhat) and then computes the eff dimension\n",
    "\n",
    "\n",
    "class EffectiveDimension:\n",
    "    def __init__(self, model, num_thetas, num_inputs):\n",
    "        \"\"\"\n",
    "        Computes the effective dimension for a parameterised model.\n",
    "        :param model: class instance\n",
    "        :param num_thetas: int, number of parameter sets to include\n",
    "        :param num_inputs: int, number of input samples to include\n",
    "        \"\"\"\n",
    "        np.random.seed(0)\n",
    "        self.model = model\n",
    "        self.d = model.d\n",
    "        self.num_thetas = num_thetas\n",
    "        self.num_inputs = num_inputs\n",
    "        # Stack data together and combine parameter sets to make calcs more efficient\n",
    "        rep_range = np.tile(np.array([num_inputs]), num_thetas)\n",
    "        params = np.random.uniform(self.model.thetamin, self.model.thetamax, size=(self.num_thetas, model.d))\n",
    "        self.params = np.repeat(params, repeats=rep_range, axis=0)\n",
    "        x = np.random.normal(0, 1, size=(self.num_inputs, self.model.inputsize))\n",
    "        self.x = np.tile(x, (self.num_thetas, 1))\n",
    "\n",
    "    def get_fhat(self):\n",
    "        \"\"\"\n",
    "        :return: ndarray, f_hat values of size (num_inputs, d, d)\n",
    "        \"\"\"\n",
    "        grads = self.model.get_gradient(params=self.params, x=self.x)  # get gradients, dp_theta\n",
    "        output = self.model.forward(params=self.params, x=self.x)  # get model output\n",
    "        fishers = self.model.get_fisher(gradients=grads, model_output=output)\n",
    "        fisher_trace = np.trace(np.average(fishers, axis=0))  # compute the trace with all fishers\n",
    "        # average the fishers over the num_inputs to get the empirical fishers\n",
    "        fisher = np.average(np.reshape(fishers, (self.num_thetas, self.num_inputs, self.d, self.d)), axis=1)\n",
    "        f_hat = self.d * fisher / fisher_trace  # calculate f_hats for all the empirical fishers\n",
    "        return f_hat, fisher_trace\n",
    "\n",
    "    def eff_dim(self, f_hat, n):\n",
    "        \"\"\"\n",
    "        Compute the effective dimension.\n",
    "        :param f_hat: ndarray\n",
    "        :param n: list, used to represent number of data samples available as per the effective dimension calc\n",
    "        :return: list, effective dimension for each n\n",
    "        \"\"\"\n",
    "        effective_dim = []\n",
    "        for ns in n:\n",
    "            Fhat = f_hat * ns / (2 * pi * np.log(ns))\n",
    "            one_plus_F = np.eye(self.d) + Fhat\n",
    "            det = np.linalg.slogdet(one_plus_F)[1]  # log det because of overflow\n",
    "            r = det / 2  # divide by 2 because of sqrt\n",
    "            effective_dim.append(2 * (logsumexp(r) - np.log(self.num_thetas)) / np.log(ns / (2 * pi * np.log(ns))))\n",
    "        return effective_dim"
   ]
  },
  {
   "cell_type": "markdown",
   "metadata": {},
   "source": [
    "### Quantum layer"
   ]
  },
  {
   "cell_type": "code",
   "execution_count": 12,
   "metadata": {
    "vscode": {
     "languageId": "python"
    }
   },
   "outputs": [],
   "source": [
    "import pennylane as qml\n",
    "dev = qml.device('default.qubit', wires=n_qubits)"
   ]
  },
  {
   "cell_type": "code",
   "execution_count": 13,
   "metadata": {
    "vscode": {
     "languageId": "python"
    }
   },
   "outputs": [],
   "source": [
    "def H_layer(nqubits):\n",
    "    \"\"\"Layer of single-qubit Hadamard gates. \n",
    "    \"\"\"\n",
    "    for idx in range(nqubits):\n",
    "        qml.Hadamard(wires=idx)\n",
    "        \n",
    "def RY_layer(w):\n",
    "    \"\"\"Layer of parametrized qubit rotations around the y axis. \n",
    "    \"\"\"\n",
    "    for idx, element in enumerate(w):\n",
    "        qml.RY(element, wires=idx)\n",
    "\n",
    "def entangling_layer(nqubits):\n",
    "    \"\"\"Layer of CNOTs followed by another shifted layer of CNOT.\n",
    "    \"\"\"\n",
    "    # In other words it should apply something like :\n",
    "    #CNOT  CNOT  CNOT  CNOT...  CNOT\n",
    "    #   CNOT  CNOT  CNOT...  CNOT  \n",
    "    for i in range(0, nqubits - 1, 2): #loop over even indices: i=0,2,...N-2  \n",
    "        qml.CNOT(wires=[i, i + 1])\n",
    "    for i in range(1, nqubits - 1, 2): #loop over odd indices:  i=1,3,...N-3\n",
    "        qml.CNOT(wires=[i, i + 1])"
   ]
  },
  {
   "cell_type": "code",
   "execution_count": 14,
   "metadata": {
    "vscode": {
     "languageId": "python"
    }
   },
   "outputs": [],
   "source": [
    "@qml.qnode(dev, interface='torch') \n",
    "def q_net(q_in, q_weights_flat):\n",
    "        \n",
    "        # Reshape weights\n",
    "        q_weights = q_weights_flat.reshape(max_layers, n_qubits)\n",
    "        \n",
    "        # Start from state |+> , unbiased w.r.t. |0> and |1>\n",
    "        H_layer(n_qubits)   \n",
    "        \n",
    "        # Embed features in the quantum node\n",
    "        RY_layer(q_in)\n",
    "        \n",
    "       \n",
    "        # Sequence of trainable variational layers\n",
    "        for k in range(q_depth):\n",
    "            entangling_layer(n_qubits)\n",
    "            RY_layer(q_weights[k + 1])\n",
    "\n",
    "        # Expectation values in the Z basis\n",
    "        return [qml.expval(qml.PauliZ(j)) for j in range(n_qubits)]"
   ]
  },
  {
   "cell_type": "markdown",
   "metadata": {},
   "source": [
    "### training function"
   ]
  },
  {
   "cell_type": "code",
   "execution_count": 15,
   "metadata": {
    "vscode": {
     "languageId": "python"
    }
   },
   "outputs": [],
   "source": [
    "import copy\n",
    "from torchsummary import summary as quick_sum # this is buggy, but light\n",
    "from torchinfo import summary # this is good, but take a lot of memory\n",
    "from sklearn.metrics import roc_auc_score, f1_score, precision_score, recall_score, accuracy_score, auc, roc_curve, accuracy_score,confusion_matrix,classification_report\n",
    "save_result = False\n",
    "if save_result == True:\n",
    "    # create folder and save the result\n",
    "    time_str = time.strftime(\"%Y%m%d-%H%M%S\")\n",
    "    result_OUT = f\"image_result/visualize_output_{time_str}\"\n",
    "    os.makedirs(result_OUT, exist_ok=True)"
   ]
  },
  {
   "cell_type": "code",
   "execution_count": 16,
   "metadata": {
    "vscode": {
     "languageId": "python"
    }
   },
   "outputs": [],
   "source": [
    "def get_variable_name(variable):\n",
    "    globals_dict = globals()\n",
    "\n",
    "    return [var_name for var_name in globals_dict if globals_dict[var_name] is variable]"
   ]
  },
  {
   "cell_type": "code",
   "execution_count": 17,
   "metadata": {
    "vscode": {
     "languageId": "python"
    }
   },
   "outputs": [],
   "source": [
    "def conf_matrix(y, y_pred):\n",
    "    fig, ax =plt.subplots(figsize=(3.5,3.5))\n",
    "    labels=['No','Yes']\n",
    "    ax=sns.heatmap(confusion_matrix(y, y_pred), annot=True, cmap=\"Blues\", fmt='g', cbar=False, annot_kws={\"size\":25})\n",
    "    plt.title('Cardiomegaly?', fontsize=20)\n",
    "    ax.xaxis.set_ticklabels(labels, fontsize=17) \n",
    "    ax.yaxis.set_ticklabels(labels, fontsize=17)\n",
    "    ax.set_ylabel('Test')\n",
    "    ax.set_xlabel('Predicted')"
   ]
  },
  {
   "cell_type": "code",
   "execution_count": 18,
   "metadata": {
    "vscode": {
     "languageId": "python"
    }
   },
   "outputs": [],
   "source": [
    "def grad_camera(models, target_layers, picture_select, transform_start=None, transform_end=None,name=None):\n",
    "    \"\"\" Train function\n",
    "    Args:\n",
    "        models: pytroch model\n",
    "        target_layers :  target layer of the model\n",
    "        picture_select (str): select picture from all the image\n",
    "        transform_start : input picture display\n",
    "        transform_end : output picture display\n",
    "    Returns:\n",
    "        pytorch model\n",
    "    Raises:\n",
    "        None\n",
    "    \"\"\"\n",
    "    #target_layers = target_layers\n",
    "    # need modify yourself\n",
    "    if transform_start == None:\n",
    "        tranform_start = [transforms.Resize((img_size, img_size)), \n",
    "                        transforms.CenterCrop((224,224)),\n",
    "                        #transforms.RandomRotation(30),\n",
    "                        #transforms.RandomHorizontalFlip(p=0.5),\n",
    "                        #transforms.RandomAutocontrast(p=0.5),\n",
    "                        transforms.ToTensor(),\n",
    "                        transforms.Normalize([0.485, 0.456, 0.406], [0.229, 0.224, 0.225])\n",
    "                        ]\n",
    "        #return tranform_start\n",
    "    input_tensor = torch.stack([read_img(eval(f'image_datasets[\"train\"].imgs{picture_select}[0]'), tranform_start)])#torch.stack(train_img)[:1,:,:,:]# Create an input tensor image for your model..\n",
    "    print(input_tensor.numpy()[0].shape)\n",
    "    y= models(input_tensor.to(device))\n",
    "    # Note: input_tensor can be a batch tensor with several images!\n",
    "    \n",
    "    # Construct the CAM object once, and then re-use it on many images:\n",
    "    cam = GradCAMPlusPlus(model=models, target_layers=target_layers)#, use_cuda=False)\n",
    "    \n",
    "    # You can also pass aug_smooth=True and eigen_smooth=True, to apply smoothing.\n",
    "    grayscale_cam = cam(input_tensor=input_tensor.to(device))[0, :]#, targets=targets)[0, :]\n",
    "    \n",
    "    # In this example grayscale_cam has only one image in the batch:\n",
    "    if transform_end == None:\n",
    "        trans_list = list(map(type, tranform_start))\n",
    "        input_tensor = input_tensor.numpy()[0]\n",
    "        input_tensor = np.transpose(input_tensor, (1,2,0))\n",
    "        if transforms.Normalize in trans_list:\n",
    "            #img = np.transpose(input_tensor, (1,2,0))\n",
    "            # We apply the inverse of the initial normalization operation.\n",
    "            norm = tranform_start[trans_list.index(transforms.Normalize)]\n",
    "            mean = np.array(norm.mean)#np.array([0.485, 0.456, 0.406])\n",
    "            std = np.array(norm.std)#np.array([0.229, 0.224, 0.225])\n",
    "            img = std * input_tensor + mean  \n",
    "            input_tensor = np.clip(img, 0, 1)\n",
    "    #img= read_img(eval(f'list(all_image_paths.values()){picture_select}'), transform_end)\n",
    "    #img =np.float32(img) / 255\n",
    "    visualization = show_cam_on_image(input_tensor, grayscale_cam, use_rgb=True)\n",
    "    \n",
    "    \n",
    "    #_, y_prob = torch.max(y, 1)\n",
    "    y_probb = nn.Sigmoid()(y)[0]\n",
    "    df = image_datasets[\"train\"].imgs\n",
    "    plt.title(f'Cardiomegaly?\\n true:{eval(f\"df{picture_select}[1]\")}\\n pred[no/yes]:{np.round(y_probb.cpu().detach().numpy(),3)}', fontsize=20)\n",
    "    #Image.fromarray(visualization, 'RGB')\n",
    "    plt.imshow(visualization)\n",
    "    if (save_result == True and name != None): plt.savefig(f\"{result_OUT}/{name}_visual_img.png\")\n",
    "    return visualization"
   ]
  },
  {
   "cell_type": "code",
   "execution_count": 19,
   "metadata": {
    "vscode": {
     "languageId": "python"
    }
   },
   "outputs": [],
   "source": [
    "def train_model(model, criterion, optimizer,scheduler, num_epochs, loss_save=None, scheduler_set = [\"outside_train\"], sig_out = True,transform = True, save = True):\n",
    "    \"\"\" Train function\n",
    "    Args:\n",
    "        model : pytroch model\n",
    "        criterion :  Criterion\n",
    "        optimizer : optimize\n",
    "        scheduler : scheduler\n",
    "        num_epochs (int): Number of epochs\n",
    "        loss_save (bool): select model save condition, \n",
    "            it can be 'None' for best_loss_train, 'True' for best_acc or False for best_loss (default=None)\n",
    "        scheduler_set (list): The set the scheduler place, \n",
    "            it can include ('inside_train', 'outside_train', 'inside_valid', 'outside_valid', outside_loss_valid)\n",
    "        sig_out (bool): training sigmoid output\n",
    "        transform (bool): transform each epoch\n",
    "    Returns:\n",
    "        pytorch model\n",
    "    Raises:\n",
    "        None\n",
    "    \"\"\"\n",
    "    #qamp_IMAGE_DIR = \"qamp\"\n",
    "    start = time.time()\n",
    "    \n",
    "    #layer_collection = LayerCollection.from_model(model)\n",
    "    #d = layer_collection.numel()\n",
    "    #print('d= ', d)\n",
    "    name = get_variable_name(model)[0]\n",
    "    print('name:',name)\n",
    "    \n",
    "    #train_ds=torch.tensor(np.array(train_img), device=device).float()\n",
    "    \n",
    "    \n",
    "    #own_elapsed = time.time() - start\n",
    "    #print(\"loader Time elapsed: \", own_elapsed)\n",
    "    global train_ds\n",
    "    global train_dataloader\n",
    "    #global valid_ds\n",
    "    #global valid_dataloader\n",
    "    \n",
    "    train_loss = []\n",
    "    train_loss_list = []\n",
    "    training_loss = []\n",
    "    best_model_wts = copy.deepcopy(model.state_dict())\n",
    "    best_acc = 0.0\n",
    "    best_loss = 10000.0   # Large arbitrary number\n",
    "    best_acc_train = 0.0\n",
    "    best_loss_train = 10000.0  # Large arbitrary number\n",
    "    opt_rate=[]\n",
    "    for epoch in range(num_epochs):\n",
    "        if transform:\n",
    "            trans_start = time.time()\n",
    "            tranform_ = [#transforms.Resize((img_size, img_size)), \n",
    "                 #transforms.CenterCrop((224,224)),\n",
    "                 #transforms.RandomRotation(30),\n",
    "                 #transforms.RandomHorizontalFlip(p=0.5),\n",
    "                #transforms.RandomVerticalFlip(p=0.5),\n",
    "                 transforms.RandAugment(),\n",
    "                 transforms.RandomAutocontrast(p=0.5),\n",
    "                 transforms.ToTensor(),\n",
    "                 transforms.Normalize([0.485, 0.456, 0.406], [0.229, 0.224, 0.225]),\n",
    "                ]\n",
    "            transform = transforms.Compose(tranform_)\n",
    "            \n",
    "            train_imgg = []\n",
    "            for img in train_img:\n",
    "                img = transform(img)\n",
    "                train_imgg.append(img)\n",
    "            \n",
    "            train_ds = TensorDataset(torch.stack(train_imgg).to(device), train_y)\n",
    "            train_dataloader = torch.utils.data.DataLoader(train_ds, batch_size=8, shuffle=True)\n",
    "            \n",
    "            #valid_imgg=[]\n",
    "            #for img in valid_img:\n",
    "            #    img = transform(img)\n",
    "            #    valid_imgg.append(img)\n",
    "            #valid_ds = TensorDataset(torch.stack(valid_imgg).to(device), valid_y)\n",
    "            #valid_dataloader = torch.utils.data.DataLoader(valid_ds, batch_size=2, shuffle=False)\n",
    "            \n",
    "            print(\"Transform Time elapsed: \", time.time() - trans_start)\n",
    "        \n",
    "        train_size = len(train_dataloader)\n",
    "        #valid_size = len(valid_dataloader)\n",
    "        \n",
    "        running_loss = 0.0\n",
    "        running_corrects = 0\n",
    "        print(epoch+1,'Training started:')\n",
    "        #for dataset_size_multiplier in range(5):\n",
    "        for index, data in enumerate(tqdm(train_dataloader)):\n",
    "            inputs, labels = data[0].to(device).type(torch.float), data[1].to(device).type(torch.long)\n",
    "            #running_loss = 0.0\n",
    "            # Set model to training mode\n",
    "            model.train() \n",
    "            \n",
    "            # Each epoch has a training and validation phase\n",
    "            batch_size_ = len(inputs)\n",
    "            optimizer.zero_grad()\n",
    "            \n",
    "            # Iterate over data.\n",
    "            #n_batches = dataset_sizes[phase] // batch_size\n",
    "            # Track/compute gradient and make an optimization step only when training\n",
    "            with torch.set_grad_enabled(True):\n",
    "                outputs = model(inputs)\n",
    "                #nn.sigmoid(outputs)\n",
    "                #print(outputs)\n",
    "                if len(outputs.shape) == 1:\n",
    "                    outputs = torch.stack([outputs])\n",
    "                if sig_out == True:\n",
    "                    outputs = nn.Sigmoid()(outputs)\n",
    "                _, preds = torch.max(outputs, 1)\n",
    "                loss = criterion(outputs, labels)#torch.stack(label_list))\n",
    "                loss.backward()\n",
    "                optimizer.step()\n",
    "                if \"inside_train\" in scheduler_set:\n",
    "                    scheduler.step()\n",
    "                \n",
    "            \n",
    "            # Print iteration results\n",
    "            running_loss += loss.item() #*inputs.size(0)#* batch_size_\n",
    "            train_loss.append(loss.item() )#*inputs.size(0))#*batch_size_)\n",
    "            batch_corrects = torch.sum(preds == labels.data).item()\n",
    "            running_corrects += batch_corrects\n",
    "            if (index+1)%train_size == 0:\n",
    "                #print(outputs)\n",
    "                #print(preds)\n",
    "                print('Train Epoch: {}/{} train loss {:.4f} Acc batch: {:.4f} learning_rate: {:.4f}'.format(epoch + 1, num_epochs, running_loss/train_size, running_corrects/train_ds.tensors[0].size(0),optimizer.state_dict()['param_groups'][0]['lr']))\n",
    "                training_loss.append(running_loss/train_size)\n",
    "        if running_corrects/len(train_ds) > best_acc_train:\n",
    "            best_acc_train = running_loss\n",
    "        if running_loss < best_loss_train:\n",
    "            best_loss_train = running_corrects/len(train_ds)#round(new_train_df.shape[0]*split_size)\n",
    "        if \"outside_train\" in scheduler_set:\n",
    "            scheduler.step()\n",
    "                \n",
    "        train_loss_list.append(np.mean(train_loss))\n",
    "        #opt_rate.append(optimizer.state_dict()['param_groups'][0]['lr'])\n",
    "    if save_result: np.savetxt(f\"{result_OUT}/{name}_training_loss.csv\", training_loss)#save\n",
    "    if save_result: np.savetxt(f\"{result_OUT}/{name}_train_loss.csv\", train_loss)#save\n",
    "    if save_result: np.savetxt(f\"{result_OUT}/{name}_train_loss_list.csv\", train_loss_list)#save\n",
    "            \n",
    "    own_elapsed = time.time() - start\n",
    "    print(\"Time elapsed: \", own_elapsed)\n",
    "    \n",
    "    # Print final results \n",
    "    #if loss_save != None:\n",
    "    #    model.load_state_dict(best_model_wts)\n",
    "    #print('Best test loss: {:.4f} | Best test accuracy: {:.4f}'.format(best_loss, best_acc))\n",
    "    if len(train_loss_list) > 1:\n",
    "        plt.rcParams[\"figure.figsize\"] = (5.5, 4)\n",
    "        plt.title(\"Training loss against Epoch\")\n",
    "        plt.xlabel(\"Epoch\")\n",
    "        plt.ylabel(\"Training loss\")\n",
    "        plt.plot(range(0,len(train_loss_list)), train_loss_list, color=\"blue\")\n",
    "        if save_result == True: plt.savefig(f\"{result_OUT}/{name}_train_loss.png\")#save pic\n",
    "        plt.show()\n",
    "    if save:\n",
    "        running_loss = 0.0\n",
    "        with torch.no_grad():\n",
    "            model.eval()\n",
    "            \n",
    "            y_pred = []\n",
    "            for index, data in enumerate(tqdm(test_dataloader)):\n",
    "                model.eval()\n",
    "                batch_inputs, batch_labels = data[0].to(device).type(torch.float), data[1].to(device).type(torch.long)\n",
    "                with torch.set_grad_enabled(False):\n",
    "                    outputs = model(batch_inputs)\n",
    "                    y_pred.append(outputs[0])\n",
    "                    #assert isinstance(outputs.item(), float)\n",
    "                    #print(outputs, batch_labels)\n",
    "                    #if len(outputs.shape) == 1:\n",
    "                    #    outputs = torch.stack([outputs])\n",
    "                    if sig_out == True:\n",
    "                        outputs = nn.Sigmoid()(outputs)\n",
    "                    #_, preds = torch.max(outputs, 1)\n",
    "                    loss    = criterion(outputs, batch_labels)\n",
    "                #print(f\"Step {index} loss: {loss}\")\n",
    "                running_loss += loss.item()\n",
    "            _, y_pred_prob = torch.max(torch.stack(y_pred), 1)\n",
    "            y_pred_prob = y_pred_prob.cpu()\n",
    "            if save_result == True: np.savetxt(f\"{result_OUT}/{name}_test_loss.csv\", y_pred_prob)#save\n",
    "            #print(y_pred, y_pred_prob)\n",
    "            print(classification_report(test_y.cpu().long(), torch.tensor(y_pred_prob.detach().numpy()),digits=4))\n",
    "            conf_matrix(test_y.cpu().long(), y_pred_prob)\n",
    "            if save_result == True: plt.savefig(f\"{result_OUT}/{name}_conf_matrix.png\")#save pic\n",
    "            plt.figure(figsize = (5.5, 4))\n",
    "            fpr, tpr, _ =roc_curve(test_y.cpu().long(), torch.tensor(y_pred_prob.detach().numpy()))\n",
    "            roc_auc = auc(fpr, tpr)\n",
    "            plt.plot(fpr, tpr, 'b', label = 'AUC = %0.4f' % roc_auc)\n",
    "            plt.plot([0, 1], [0, 1],'r--')\n",
    "            plt.title('ROC curve',fontsize=25)\n",
    "            plt.ylabel('True Positive Rate',fontsize=18)\n",
    "            plt.xlabel('False Positive Rate',fontsize=18)\n",
    "            plt.legend(loc = 'lower right', fontsize=24, fancybox=True, shadow=True, frameon=True, handlelength=0)\n",
    "            if save_result == True: plt.savefig(f\"{result_OUT}/{name}_roc.png\") #save pic\n",
    "            plt.show()\n",
    "    return model"
   ]
  },
  {
   "cell_type": "code",
   "execution_count": 20,
   "metadata": {
    "vscode": {
     "languageId": "python"
    }
   },
   "outputs": [],
   "source": [
    "def count_parameters(model):\n",
    "    return sum(p.numel() for p in model.parameters() if p.requires_grad)\n",
    "def n_count_parameters(model):\n",
    "    return sum(p.numel() for p in model.parameters() if not(p.requires_grad))"
   ]
  },
  {
   "cell_type": "code",
   "execution_count": 21,
   "metadata": {
    "vscode": {
     "languageId": "python"
    }
   },
   "outputs": [],
   "source": [
    "def train_func(cnn_model,init_step, train_step,save_model=save_result):\n",
    "    \n",
    "    num_epochs = init_step\n",
    "    criterion = nn.CrossEntropyLoss()\n",
    "    optimizer = torch.optim.Adam(cnn_model.parameters(), lr=step, weight_decay = weight_decay)\n",
    "    #optimizer = torch.optim.SGD(filter(lambda p: p.requires_grad, cnn_model.parameters()), lr=10e-4, momentum=0.9)\n",
    "    exp_lr_scheduler = torch.optim.lr_scheduler.StepLR(optimizer, step_size=step_size, gamma=gamma_lr_scheduler)\n",
    "    cnn_model = train_model(cnn_model.to(device), \n",
    "                            criterion, optimizer,exp_lr_scheduler, \n",
    "                            num_epochs,None,[\"outside_train\"], False, True,False)\n",
    "    \n",
    "    for param in cnn_model.parameters():\n",
    "        param.requires_grad = True\n",
    "    \n",
    "    num_epochs = train_step\n",
    "    optimizer = torch.optim.Adam(cnn_model.parameters(), lr=(step*0.3)*(np.floor(init_step/2)), weight_decay = weight_decay)\n",
    "    #optimizer = torch.optim.SGD(filter(lambda p: p.requires_grad, cnn_model.parameters()), lr=3e-4, momentum=0.9)\n",
    "    exp_lr_scheduler = torch.optim.lr_scheduler.StepLR(optimizer, step_size=step_size, gamma=gamma_lr_scheduler)\n",
    "    cnn_model = train_model(cnn_model.to(device), \n",
    "                            criterion, optimizer,exp_lr_scheduler, \n",
    "                            num_epochs,None,[\"outside_train\"], False, True)#[\"outside_train\"]\n",
    "    \n",
    "    cnn_model_visual = grad_camera(cnn_model, [cnn_model.features[-1]],[0] ,transform_start=None, transform_end=None,name=get_variable_name(cnn_model)[0])\n",
    "    if save_model:\n",
    "        torch.save(cnn_model.state_dict(),f\"{result_OUT}/{get_variable_name(cnn_model)[0]}.pt\")\n",
    "    return cnn_model"
   ]
  },
  {
   "cell_type": "code",
   "execution_count": 22,
   "metadata": {
    "vscode": {
     "languageId": "python"
    }
   },
   "outputs": [],
   "source": [
    "def prob_loop(sample,models, target_layers, picture_select, transform_start=None, transform_end=None,name=None):\n",
    "    # need modify yourself\n",
    "    if transform_start == None:\n",
    "        tranform_start = [transforms.Resize((img_size, img_size)), \n",
    "                        transforms.CenterCrop((224,224)),\n",
    "                        #transforms.RandomRotation(30),\n",
    "                        #transforms.RandomHorizontalFlip(p=0.5),\n",
    "                        #transforms.RandomAutocontrast(p=0.5),\n",
    "                        transforms.ToTensor(),\n",
    "                        transforms.Normalize([0.485, 0.456, 0.406], [0.229, 0.224, 0.225])\n",
    "                        ]\n",
    "    input_tensor = torch.stack([read_img(eval(f'image_datasets[sample].imgs{picture_select}[0]'), tranform_start)])#torch.stack(val_img)[:1,:,:,:]# Create an input tensor image for your model..\n",
    "    y= models(input_tensor.to(device))\n",
    "    \n",
    "    y_probb = nn.Sigmoid()(y)[0]\n",
    "    return y_probb\n",
    "\n",
    "\n",
    "def make_df_y_probb(sample,model) :  \n",
    "    df_y_probb = pd.DataFrame(columns=['image', 'p_yes', 'p_no'])\n",
    "    df = image_datasets[sample].imgs\n",
    "    for i in range(len(df)):\n",
    "        image_name = df[i][0][-10:]\n",
    "        y_probb = prob_loop(sample, model, [model.features[-1]] \\\n",
    "            ,[i] ,transform_start=None, transform_end=None)\n",
    "        y_probb = y_probb.cpu()\n",
    "        p_yes = y_probb.detach().numpy()[0]\n",
    "        p_no = y_probb.detach().numpy()[1]\n",
    "        row = {'image' : image_name, 'p_yes': p_yes, 'p_no': p_no}\n",
    "        new_df = pd.DataFrame([row])\n",
    "        df_y_probb =  pd.concat([df_y_probb, new_df], axis = 0, ignore_index=True)\n",
    "    return df_y_probb\n",
    "\n",
    "def plot_ROC(name,y_true, y_score):\n",
    "\n",
    "    # ROC Curve and AUROC\n",
    "    plt.figure(0).clf()\n",
    "    if np.sum(y_true) != 0.:        \n",
    "        fpr, tpr, _ = roc_curve(y_true, y_score)\n",
    "        auc = round(roc_auc_score(y_true, y_score), 4)\n",
    "        plt.plot(fpr,tpr,label=name + \", AUC =\" + str(auc))\n",
    "    if save_result == True: plt.savefig(f\"{result_OUT}/{name}_roc.png\") #save pic\n",
    "    plt.legend()\n",
    "    plt.show()\n",
    "\n",
    "def make_csv(model, sample=\"val\",model_name=None,result=True):\n",
    "    df = make_df_y_probb(sample,model)\n",
    "    if sample == \"val\":\n",
    "        df_list = 361*[1] + 369*[0]\n",
    "    elif sample == \"train\":\n",
    "        df_list = 850*[1] + 856*[0]\n",
    "    df = df.assign(label = df_list)\n",
    "\n",
    "    pred_list = np.array(df.p_yes) / (np.array(df.p_yes) + np.array(df.p_no))\n",
    "    df = df.assign(cmg_pred = pred_list)\n",
    "    #elif sample == \"train\":\n",
    "    #    pred_val_list =( np.array(df.p_yes) / (np.array(df.p_yes) + np.array(df.p_no)) + 0.5).astype('int32')\n",
    "    #    df = df.assign(pred = pred_val_list)\n",
    "    \n",
    "    pred_list =( np.array(df.p_yes) / (np.array(df.p_yes) + np.array(df.p_no)) + 0.5).astype('int32')\n",
    "    df = df.assign(pred = pred_list)\n",
    "    \n",
    "    df = df.rename(columns={\"cmg_pred\": \"prob\"})\n",
    "    if sample == \"val\":\n",
    "        df.sort_values(by = 'image')[0:16]\n",
    "    elif sample == \"train\":\n",
    "        df.sort_values(by = 'image')\n",
    "    model_name = get_variable_name(model)[0] if None else model_name\n",
    "    if save_result: df.to_csv(f'{result_OUT}/y_probbs_{model_name}_{sample}.csv', index = False)\n",
    "    \n",
    "    if result:\n",
    "        name = get_variable_name(model)[0] if None else model_name\n",
    "        df_val = pd.read_csv(f'{result_OUT}/y_probbs_{name}_{sample}.csv') \n",
    "        prediction = np.array(df_val.prob) \n",
    "        name_ROC = f\"Cardiomegaly - {name}_{sample}\"\n",
    "        plot_ROC(name_ROC, np.array(df_val.label), prediction)\n",
    "        print(classification_report(np.array(df_val.label),  (prediction+ 0.5).astype('int32')))#prediction))\n",
    "    return df"
   ]
  },
  {
   "cell_type": "code",
   "execution_count": 23,
   "metadata": {},
   "outputs": [],
   "source": [
    "from qiskit.circuit.library import RealAmplitudes, ZZFeatureMap,EfficientSU2, PauliFeatureMap,TwoLocal,ZFeatureMap,NLocal\n",
    "from qiskit_machine_learning.neural_networks import CircuitQNN, TwoLayerQNN, OpflowQNN\n",
    "from qiskit_machine_learning.connectors import TorchConnector\n",
    "from qiskit.utils import QuantumInstance, algorithm_globals\n",
    "from qiskit.opflow.gradients import Gradient, Hessian #, NaturalGradient, QFI, \n",
    "from qiskit import QuantumCircuit, transpile, Aer ,  execute, BasicAer, assemble, IBMQ\n",
    "from qiskit.circuit import ParameterVector\n",
    "from qiskit_machine_learning.neural_networks import EffectiveDimension, LocalEffectiveDimension\n",
    "from qiskit_machine_learning.neural_networks import SamplerQNN, EstimatorQNN\n",
    "input_dim = n_qubits"
   ]
  },
  {
   "cell_type": "code",
   "execution_count": 24,
   "metadata": {},
   "outputs": [],
   "source": [
    "def simulator_train(feature_map, ansatz,effective=None,hardware='CPU',num_layer=0,output_dim=4):\n",
    "    # REMEMBER TO SET input_gradients=True FOR ENABLING HYBRID GRADIENT BACKPROP\n",
    "    qc = feature_map.compose(ansatz)\n",
    "    simulator = Aer.get_backend('aer_simulator_statevector')\n",
    "    # detail_explaination: https://qiskit.org/documentation/stubs/qiskit_aer.AerSimulator.html\n",
    "    simulator.set_options(\n",
    "        device=hardware,\n",
    "        max_parallel_threads = 0, #max_parallel_shots\n",
    "        max_parallel_experiments = 0, #equal 0 means maximum number of experiments that may be executed in parallel equals max_parallel_threads value.\n",
    "        max_parallel_shots = 1, #equal 1 means disable parallel shot execution.\n",
    "        statevector_parallel_threshold = input_dim,\n",
    "        blocking_enable = True,\n",
    "    )\n",
    "    qnn = CircuitQNN(\n",
    "                circuit=qc,\n",
    "                input_params=feature_map.parameters,\n",
    "                weight_params=ansatz.parameters,\n",
    "                interpret=lambda x: x % output_dim,\n",
    "                output_shape=output_dim,\n",
    "                gradient= None,#Gradient(grad_method='lin_comb'), #param_shift\n",
    "                quantum_instance= QuantumInstance(simulator, shots=10),\n",
    "                input_gradients=True,\n",
    "            )\n",
    "    initial_weights = 0.1 * (2 * algorithm_globals.random.random(qnn.num_weights) - 1)\n",
    "    model1 = TorchConnector(qnn, initial_weights=initial_weights)\n",
    "    print(model1(torch.tensor(0.1 * (2 * algorithm_globals.random.random(input_dim) - 1))))\n",
    "    if effective:\n",
    "        # we can set the total number of input samples and weight samples for random selection\n",
    "    \n",
    "        global_ed = EffectiveDimension(\n",
    "            qnn=qnn, weight_samples=10, input_samples=10\n",
    "        )\n",
    "        \n",
    "        # finally, we will define ranges to test different numbers of data, n\n",
    "        n = [5000, 8000, 10000, 40000, 60000, 100000, 150000, 200000, 500000, 1000000]\n",
    "        #n = [1000, 2000, 8000, 10000, 40000, 60000, 100000, 150000, 200000, 500000, 1000000]\n",
    "        global_eff_dim_0 = global_ed.get_effective_dimension(dataset_size=n[0])\n",
    "        \n",
    "        d = qnn.num_weights\n",
    "        \n",
    "        print(\"Data size: {}, global effective dimension: {:.4f}\".format(n[0], global_eff_dim_0))\n",
    "        print(\n",
    "            \"Number of weights: {}, normalized effective dimension: {:.4f}\".format(d, global_eff_dim_0 / d)\n",
    "        )\n",
    "        \n",
    "        global_eff_dim_1 = global_ed.get_effective_dimension(dataset_size=n)\n",
    "        \n",
    "        print(\"Effective dimension: {}\".format(global_eff_dim_1))\n",
    "        print(\"Number of weights: {}\".format(d))\n",
    "        \n",
    "        # plot the normalized effective dimension for the model\n",
    "        plt.plot(n, np.array(global_eff_dim_1) / d)\n",
    "        plt.xlabel(\"Number of data\")\n",
    "        plt.ylabel(\"Normalized GLOBAL effective dimension\")\n",
    "        if save_result : plt.savefig(f\"{result_OUT}/{effective}_effective.png\")\n",
    "        plt.show()\n",
    "    class Quantumnet(nn.Module):\n",
    "        def __init__(self,input_size):\n",
    "            super().__init__()\n",
    "            self.pre_net = nn.Linear(input_size, input_dim)\n",
    "            #self.q_params = nn.Parameter(q_delta * torch.randn(max_layers * n_qubits))\n",
    "            self.qnn = TorchConnector(qnn)#,initial_weights)\n",
    "            for i in range(num_layer):\n",
    "                exec(f\"self.qnn{i}= TorchConnector(qnn{i})\")\n",
    "            self.post_net = nn.Linear(output_dim, 2)\n",
    "\n",
    "        def forward(self, input_features):\n",
    "            pre_out = self.pre_net(input_features)\n",
    "            q_in = torch.tanh(pre_out) * np.pi / 2.0   \n",
    "            q_out = self.qnn(q_in).float()\n",
    "            #print(q_out)\n",
    "            for i in range(num_layer):\n",
    "                q_out = torch.tanh(q_out) * np.pi / 2.0  \n",
    "                q_out = eval(f\"self.qnn{i}().float()\")\n",
    "            \n",
    "            # Apply the quantum circuit to each element of the batch and append to q_out\n",
    "            #q_out = torch.Tensor(0, n_qubits)\n",
    "            #q_out = q_out.to(device)\n",
    "            return self.post_net(q_out)\n",
    "    return Quantumnet"
   ]
  },
  {
   "cell_type": "code",
   "execution_count": 25,
   "metadata": {},
   "outputs": [
    {
     "name": "stdout",
     "output_type": "stream",
     "text": [
      "60\n"
     ]
    }
   ],
   "source": [
    "parm = ParameterVector('phi', input_dim)\n",
    "param = ParameterVector('deta',q_depth*input_dim)\n",
    "feature_map = QuantumCircuit(input_dim)\n",
    "feature_map.h(range(input_dim))\n",
    "for i,j in enumerate(parm):\n",
    "    feature_map.ry(j,i)\n",
    "#for k in range(feature_map.num_qubits-1):\n",
    "#    feature_map.cnot(k,k+1)\n",
    "feature_map.barrier()\n",
    "\n",
    "#feature_map.draw()\n",
    "\n",
    "ansatz = QuantumCircuit(input_dim)\n",
    "k=0\n",
    "for i in range(q_depth):\n",
    "    for j in range(ansatz.num_qubits-1):\n",
    "        ansatz.cnot(j,j+1)\n",
    "    ansatz.barrier()\n",
    "    \n",
    "    for j in range(ansatz.num_qubits):\n",
    "        ansatz.ry(param[k],j)\n",
    "        k+=1\n",
    "    ansatz.barrier()\n",
    "print(ansatz.num_parameters)\n",
    "#feature_map.compose(ansatz).draw()\n",
    "\n",
    "#feature_map = ZFeatureMap(input_dim,reps=1)\n",
    "#ansatz = RealAmplitudes(input_dim, reps=q_depth,entanglement='linear',skip_final_rotation_layer=True,insert_barriers=True)\n",
    "#feature_map.decompose(reps=1).draw()"
   ]
  },
  {
   "cell_type": "markdown",
   "metadata": {},
   "source": [
    "### Load model"
   ]
  },
  {
   "cell_type": "code",
   "execution_count": 26,
   "metadata": {},
   "outputs": [
    {
     "data": {
      "text/plain": [
       "==========================================================================================\n",
       "Layer (type:depth-idx)                   Output Shape              Param #\n",
       "==========================================================================================\n",
       "DenseNet                                 [1, 2]                    --\n",
       "├─Sequential: 1-1                        [1, 1024, 7, 7]           --\n",
       "│    └─Conv2d: 2-1                       [1, 64, 112, 112]         (9,408)\n",
       "│    └─BatchNorm2d: 2-2                  [1, 64, 112, 112]         (128)\n",
       "│    └─ReLU: 2-3                         [1, 64, 112, 112]         --\n",
       "│    └─MaxPool2d: 2-4                    [1, 64, 56, 56]           --\n",
       "│    └─_DenseBlock: 2-5                  [1, 256, 56, 56]          (335,040)\n",
       "│    └─_Transition: 2-6                  [1, 128, 28, 28]          (33,280)\n",
       "│    └─_DenseBlock: 2-7                  [1, 512, 28, 28]          (919,680)\n",
       "│    └─_Transition: 2-8                  [1, 256, 14, 14]          (132,096)\n",
       "│    └─_DenseBlock: 2-9                  [1, 1024, 14, 14]         (2,837,760)\n",
       "│    └─_Transition: 2-10                 [1, 512, 7, 7]            (526,336)\n",
       "│    └─_DenseBlock: 2-11                 [1, 1024, 7, 7]           (2,158,080)\n",
       "│    └─BatchNorm2d: 2-12                 [1, 1024, 7, 7]           (2,048)\n",
       "├─Sequential: 1-2                        [1, 2]                    --\n",
       "│    └─Linear: 2-13                      [1, 512]                  524,800\n",
       "│    └─ReLU: 2-14                        [1, 512]                  --\n",
       "│    └─Linear: 2-15                      [1, 2]                    1,026\n",
       "==========================================================================================\n",
       "Total params: 7,479,682\n",
       "Trainable params: 525,826\n",
       "Non-trainable params: 6,953,856\n",
       "Total mult-adds (G): 2.83\n",
       "==========================================================================================\n",
       "Input size (MB): 0.60\n",
       "Forward/backward pass size (MB): 180.54\n",
       "Params size (MB): 29.92\n",
       "Estimated Total Size (MB): 211.06\n",
       "=========================================================================================="
      ]
     },
     "execution_count": 26,
     "metadata": {},
     "output_type": "execute_result"
    }
   ],
   "source": [
    "densenet121_model = torchvision.models.densenet121(weights= 'DEFAULT')\n",
    "for param in densenet121_model.parameters():\n",
    "    param.requires_grad = False\n",
    "densenet121_model.classifier = nn.Sequential(nn.Linear(densenet121_model.classifier.in_features, 512), torch.nn.ReLU(), nn.Linear(512, 2))\n",
    "summary(densenet121_model.to('cuda:0'),torch.stack(train_imgg)[:1].shape,device='cuda:0',depth=2)"
   ]
  },
  {
   "cell_type": "code",
   "execution_count": 27,
   "metadata": {},
   "outputs": [
    {
     "data": {
      "text/plain": [
       "==========================================================================================\n",
       "Layer (type:depth-idx)                   Output Shape              Param #\n",
       "==========================================================================================\n",
       "AlexNet                                  [1, 2]                    --\n",
       "├─Sequential: 1-1                        [1, 256, 6, 6]            --\n",
       "│    └─Conv2d: 2-1                       [1, 64, 55, 55]           (23,296)\n",
       "│    └─ReLU: 2-2                         [1, 64, 55, 55]           --\n",
       "│    └─MaxPool2d: 2-3                    [1, 64, 27, 27]           --\n",
       "│    └─Conv2d: 2-4                       [1, 192, 27, 27]          (307,392)\n",
       "│    └─ReLU: 2-5                         [1, 192, 27, 27]          --\n",
       "│    └─MaxPool2d: 2-6                    [1, 192, 13, 13]          --\n",
       "│    └─Conv2d: 2-7                       [1, 384, 13, 13]          (663,936)\n",
       "│    └─ReLU: 2-8                         [1, 384, 13, 13]          --\n",
       "│    └─Conv2d: 2-9                       [1, 256, 13, 13]          (884,992)\n",
       "│    └─ReLU: 2-10                        [1, 256, 13, 13]          --\n",
       "│    └─Conv2d: 2-11                      [1, 256, 13, 13]          (590,080)\n",
       "│    └─ReLU: 2-12                        [1, 256, 13, 13]          --\n",
       "│    └─MaxPool2d: 2-13                   [1, 256, 6, 6]            --\n",
       "├─AdaptiveAvgPool2d: 1-2                 [1, 256, 6, 6]            --\n",
       "├─Sequential: 1-3                        [1, 2]                    --\n",
       "│    └─Dropout: 2-14                     [1, 9216]                 --\n",
       "│    └─Linear: 2-15                      [1, 4096]                 (37,752,832)\n",
       "│    └─ReLU: 2-16                        [1, 4096]                 --\n",
       "│    └─Dropout: 2-17                     [1, 4096]                 --\n",
       "│    └─Linear: 2-18                      [1, 4096]                 (16,781,312)\n",
       "│    └─ReLU: 2-19                        [1, 4096]                 --\n",
       "│    └─Linear: 2-20                      [1, 1000]                 (4,097,000)\n",
       "│    └─ReLU: 2-21                        [1, 1000]                 --\n",
       "│    └─Linear: 2-22                      [1, 2]                    2,002\n",
       "==========================================================================================\n",
       "Total params: 61,102,842\n",
       "Trainable params: 2,002\n",
       "Non-trainable params: 61,100,840\n",
       "Total mult-adds (M): 714.68\n",
       "==========================================================================================\n",
       "Input size (MB): 0.60\n",
       "Forward/backward pass size (MB): 3.95\n",
       "Params size (MB): 244.41\n",
       "Estimated Total Size (MB): 248.97\n",
       "=========================================================================================="
      ]
     },
     "execution_count": 27,
     "metadata": {},
     "output_type": "execute_result"
    }
   ],
   "source": [
    "alexnet_model = torchvision.models.alexnet(weights= 'DEFAULT')\n",
    "for param in alexnet_model.parameters():\n",
    "    param.requires_grad = False\n",
    "alexnet_model.classifier.append(torch.nn.ReLU())\n",
    "alexnet_model.classifier.append(nn.Linear(1000, 2))\n",
    "summary(alexnet_model.to('cuda:0'),torch.stack(train_imgg)[:1].shape,device='cuda:0',depth=2)"
   ]
  },
  {
   "cell_type": "code",
   "execution_count": 28,
   "metadata": {},
   "outputs": [
    {
     "data": {
      "text/plain": [
       "==========================================================================================\n",
       "Layer (type:depth-idx)                   Output Shape              Param #\n",
       "==========================================================================================\n",
       "DenseNet                                 [1, 2]                    --\n",
       "├─Sequential: 1-1                        [1, 1024, 7, 7]           --\n",
       "│    └─Conv2d: 2-1                       [1, 64, 122, 122]         (9,408)\n",
       "│    └─BatchNorm2d: 2-2                  [1, 64, 122, 122]         (128)\n",
       "│    └─ReLU: 2-3                         [1, 64, 122, 122]         --\n",
       "│    └─MaxPool2d: 2-4                    [1, 64, 61, 61]           --\n",
       "│    └─_DenseBlock: 2-5                  [1, 256, 61, 61]          (335,040)\n",
       "│    └─_Transition: 2-6                  [1, 128, 30, 30]          (33,280)\n",
       "│    └─_DenseBlock: 2-7                  [1, 512, 30, 30]          (919,680)\n",
       "│    └─_Transition: 2-8                  [1, 256, 15, 15]          (132,096)\n",
       "│    └─_DenseBlock: 2-9                  [1, 1024, 15, 15]         (2,837,760)\n",
       "│    └─_Transition: 2-10                 [1, 512, 7, 7]            (526,336)\n",
       "│    └─_DenseBlock: 2-11                 [1, 1024, 7, 7]           (2,158,080)\n",
       "│    └─BatchNorm2d: 2-12                 [1, 1024, 7, 7]           (2,048)\n",
       "├─Quantumnet: 1-2                        [1, 2]                    150\n",
       "│    └─Linear: 2-13                      [1, 10]                   10,250\n",
       "│    └─Linear: 2-14                      [1, 2]                    22\n",
       "==========================================================================================\n",
       "Total params: 6,964,278\n",
       "Trainable params: 10,422\n",
       "Non-trainable params: 6,953,856\n",
       "Total mult-adds (G): 3.29\n",
       "==========================================================================================\n",
       "Input size (MB): 0.71\n",
       "Forward/backward pass size (MB): 209.60\n",
       "Params size (MB): 27.86\n",
       "Estimated Total Size (MB): 238.17\n",
       "=========================================================================================="
      ]
     },
     "execution_count": 28,
     "metadata": {},
     "output_type": "execute_result"
    }
   ],
   "source": [
    "class Quantumnet(nn.Module):\n",
    "    def __init__(self,input_size):\n",
    "        super().__init__()\n",
    "        self.pre_net = nn.Linear(input_size, n_qubits)\n",
    "        self.q_params = nn.Parameter(q_delta * torch.randn(max_layers * n_qubits))\n",
    "        self.post_net = nn.Linear(n_qubits, 2)\n",
    "\n",
    "    def forward(self, input_features):\n",
    "        pre_out = self.pre_net(input_features) \n",
    "        q_in = torch.tanh(pre_out) * np.pi / 2.0   \n",
    "        \n",
    "        # Apply the quantum circuit to each element of the batch and append to q_out\n",
    "        q_out = torch.Tensor(0, n_qubits)\n",
    "        q_out = q_out.to(device)\n",
    "        for elem in q_in:\n",
    "            q_out_elem = q_net(elem,self.q_params).float().unsqueeze(0)\n",
    "            q_out = torch.cat((q_out, q_out_elem))\n",
    "        return self.post_net(q_out)\n",
    "\n",
    "PL_qnn_model = torchvision.models.densenet121(weights= 'DEFAULT')\n",
    "for param in PL_qnn_model.parameters():\n",
    "    param.requires_grad = False\n",
    "PL_qnn_model.classifier = Quantumnet(PL_qnn_model.classifier.in_features)\n",
    "#summary(PL_qnn_model.to('cuda:0'),torch.stack(train_imgg)[:1].shape,device='cuda:0',depth=2)\n",
    "summary(PL_qnn_model.to('cuda:0'),[1,3,244,244],device='cuda:0',depth=2)"
   ]
  },
  {
   "cell_type": "code",
   "execution_count": 29,
   "metadata": {
    "scrolled": false
   },
   "outputs": [
    {
     "name": "stdout",
     "output_type": "stream",
     "text": [
      "tensor([0.3150, 0.6850], grad_fn=<_TorchNNFunctionBackward>)\n"
     ]
    },
    {
     "data": {
      "text/plain": [
       "==========================================================================================\n",
       "Layer (type:depth-idx)                   Output Shape              Param #\n",
       "==========================================================================================\n",
       "DenseNet                                 [1, 2]                    --\n",
       "├─Sequential: 1-1                        [1, 1024, 7, 7]           --\n",
       "│    └─Conv2d: 2-1                       [1, 64, 112, 112]         (9,408)\n",
       "│    └─BatchNorm2d: 2-2                  [1, 64, 112, 112]         (128)\n",
       "│    └─ReLU: 2-3                         [1, 64, 112, 112]         --\n",
       "│    └─MaxPool2d: 2-4                    [1, 64, 56, 56]           --\n",
       "│    └─_DenseBlock: 2-5                  [1, 256, 56, 56]          (335,040)\n",
       "│    └─_Transition: 2-6                  [1, 128, 28, 28]          (33,280)\n",
       "│    └─_DenseBlock: 2-7                  [1, 512, 28, 28]          (919,680)\n",
       "│    └─_Transition: 2-8                  [1, 256, 14, 14]          (132,096)\n",
       "│    └─_DenseBlock: 2-9                  [1, 1024, 14, 14]         (2,837,760)\n",
       "│    └─_Transition: 2-10                 [1, 512, 7, 7]            (526,336)\n",
       "│    └─_DenseBlock: 2-11                 [1, 1024, 7, 7]           (2,158,080)\n",
       "│    └─BatchNorm2d: 2-12                 [1, 1024, 7, 7]           (2,048)\n",
       "├─Quantumnet: 1-2                        [1, 2]                    --\n",
       "│    └─Linear: 2-13                      [1, 10]                   10,250\n",
       "│    └─TorchConnector: 2-14              [1, 2]                    60\n",
       "│    └─Linear: 2-15                      [1, 2]                    6\n",
       "==========================================================================================\n",
       "Total params: 6,964,172\n",
       "Trainable params: 10,316\n",
       "Non-trainable params: 6,953,856\n",
       "Total mult-adds (G): 2.83\n",
       "==========================================================================================\n",
       "Input size (MB): 0.60\n",
       "Forward/backward pass size (MB): 180.53\n",
       "Params size (MB): 27.86\n",
       "Estimated Total Size (MB): 208.99\n",
       "=========================================================================================="
      ]
     },
     "execution_count": 29,
     "metadata": {},
     "output_type": "execute_result"
    }
   ],
   "source": [
    "Quantumnet = simulator_train(feature_map, ansatz,None ,output_dim=2)\n",
    "Qiskit_easy_qnn_model = torchvision.models.densenet121(weights= 'DEFAULT')\n",
    "for param in Qiskit_easy_qnn_model.parameters():\n",
    "    param.requires_grad = False\n",
    "Qiskit_easy_qnn_model.classifier = Quantumnet(Qiskit_easy_qnn_model.classifier.in_features)\n",
    "summary(Qiskit_easy_qnn_model.to('cuda:0'),torch.stack(train_imgg)[:1].shape,device='cuda:0',depth=2)"
   ]
  },
  {
   "cell_type": "markdown",
   "metadata": {
    "vscode": {
     "languageId": "python"
    }
   },
   "source": [
    "### generate_ROC from saved_model"
   ]
  },
  {
   "cell_type": "code",
   "execution_count": null,
   "metadata": {
    "scrolled": false
   },
   "outputs": [],
   "source": [
    "results = ['freezer_init_20230222-222120', 'no_freezer_20230223-194723']\n",
    "models = ['densenet121_model', 'alexnet_model', 'PL_qnn_model', 'Qiskit_easy_qnn_model']\n",
    "for result in results[1:2]:\n",
    "    for model in models[2:3]:\n",
    "        succ_load = eval(f\"{model}.load_state_dict(torch.load(f'image_result/{result}/{model}.pt'))\")\n",
    "        exec(f\"{model}.to(device).eval()\")\n",
    "        print(succ_load,result,model)\n",
    "        for i in ['train','val']:\n",
    "            print(i)\n",
    "            name = f'{model}_{results[1][:10]}'\n",
    "            exec(f\"{model}_{i}=make_csv({model},'{i}', '{name}')\")\n",
    "            print()"
   ]
  }
 ],
 "metadata": {
  "kernelspec": {
   "display_name": "qamp2022_gpu",
   "language": "python",
   "name": "qamp2022_gpu"
  },
  "language_info": {
   "codemirror_mode": {
    "name": "ipython",
    "version": 3
   },
   "file_extension": ".py",
   "mimetype": "text/x-python",
   "name": "python",
   "nbconvert_exporter": "python",
   "pygments_lexer": "ipython3",
   "version": "3.9.16"
  },
  "toc": {
   "base_numbering": 1,
   "nav_menu": {},
   "number_sections": true,
   "sideBar": true,
   "skip_h1_title": false,
   "title_cell": "Table of Contents",
   "title_sidebar": "Contents",
   "toc_cell": false,
   "toc_position": {},
   "toc_section_display": true,
   "toc_window_display": false
  }
 },
 "nbformat": 4,
 "nbformat_minor": 2
}
